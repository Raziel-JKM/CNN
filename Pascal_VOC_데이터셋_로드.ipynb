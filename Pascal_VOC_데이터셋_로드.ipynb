{
  "nbformat": 4,
  "nbformat_minor": 0,
  "metadata": {
    "colab": {
      "name": "Pascal VOC 데이터셋 로드.ipynb",
      "provenance": [],
      "authorship_tag": "ABX9TyMDMa0AiaZ7R0JYKJfA6TMP",
      "include_colab_link": true
    },
    "kernelspec": {
      "name": "python3",
      "display_name": "Python 3"
    },
    "language_info": {
      "name": "python"
    }
  },
  "cells": [
    {
      "cell_type": "markdown",
      "metadata": {
        "id": "view-in-github",
        "colab_type": "text"
      },
      "source": [
        "<a href=\"https://colab.research.google.com/github/Raziel-JKM/CNN-----Practice/blob/main/Pascal_VOC_%EB%8D%B0%EC%9D%B4%ED%84%B0%EC%85%8B_%EB%A1%9C%EB%93%9C.ipynb\" target=\"_parent\"><img src=\"https://colab.research.google.com/assets/colab-badge.svg\" alt=\"Open In Colab\"/></a>"
      ]
    },
    {
      "cell_type": "markdown",
      "metadata": {
        "id": "9u95DXwDi7AK"
      },
      "source": [
        "\n",
        "PASCAL VOC(Visual Object Classes) 데이터셋은 다음과 같은 구조\n",
        "```\n",
        "VOC2007/\n",
        "├── images\n",
        "│   ├── 000001.jpg\n",
        "│   ├── 000002.jpg\n",
        "│   └── 000003.jpg\n",
        "└── labels\n",
        "    ├── 000001.xml\n",
        "    ├── 000002.xml\n",
        "    └── 000003.xml\n",
        "\n",
        "```\n",
        "\n"
      ]
    },
    {
      "cell_type": "code",
      "metadata": {
        "id": "4LPdeFKGi6mA"
      },
      "source": [
        ""
      ],
      "execution_count": null,
      "outputs": []
    }
  ]
}