{
  "nbformat": 4,
  "nbformat_minor": 0,
  "metadata": {
    "colab": {
      "name": "YOLO1.ipynb",
      "provenance": [],
      "authorship_tag": "ABX9TyN/ZY/i3w9sWif3QcaQvlpi",
      "include_colab_link": true
    },
    "kernelspec": {
      "name": "python3",
      "display_name": "Python 3"
    },
    "language_info": {
      "name": "python"
    }
  },
  "cells": [
    {
      "cell_type": "markdown",
      "metadata": {
        "id": "view-in-github",
        "colab_type": "text"
      },
      "source": [
        "<a href=\"https://colab.research.google.com/github/Raziel-JKM/CNN-----Practice/blob/main/YOLO1.ipynb\" target=\"_parent\"><img src=\"https://colab.research.google.com/assets/colab-badge.svg\" alt=\"Open In Colab\"/></a>"
      ]
    },
    {
      "cell_type": "code",
      "metadata": {
        "colab": {
          "base_uri": "https://localhost:8080/",
          "height": 130
        },
        "id": "vzwuHTlwZB09",
        "outputId": "95054ada-6eb7-4757-ff24-c1d9f5803a60"
      },
      "source": [
        "from tensorflow.keras import datasets, layers, models, activations, losses, optimizers, metrics\n",
        "\n",
        "def create_yolo():\n",
        "    model = models.Sequential()\n",
        "    \n",
        "    # Block1\n",
        "    model.add(layers.Convolution2D(64, (7, 7), strides=(2, 2), input_shape=(448, 448, 3), padding='same'))\n",
        "    model.add(layers.LeakyReLU(alpha=0.1))\n",
        "    model.add(layers.MaxPooling2D(pool_size=(2, 2), strides=(2, 2), padding='same'))\n",
        "\n",
        "    # Block2\n",
        "    model.add(layers.Convolution2D(192, (3, 3), padding='same'))\n",
        "    model.add(layers.LeakyReLU(alpha=0.1))\n",
        "    model.add(layers.MaxPooling2D(pool_size=(2, 2), strides=(2, 2), padding='same'))    \n",
        "    \n",
        "    \"\"\"\n",
        "    이곳에 모델을 레이어를 추가하는 코드를 구현하세요.\n",
        "    모델의 구조는 문제의 설명의 모델 구조도를 참고 하세요.\n",
        "    \"\"\"\n",
        "    # Block3\n",
        "    model.add(layers.Convolution2D(128,(1, 1), padding='same'))\n",
        "    model.add(layers.LeakyReLU(alpha=0.1))\n",
        "    model.add(layers.Convolution2D(256,(3, 3), padding='same'))\n",
        "    model.add(layers.LeakyReLU(alpha=0.1)\n",
        "    model.add(layers.Convolution2D(256,(1, 1), padding='same'))\n",
        "    model.add(layers.LeakyReLU(alpha=0.1)\n",
        "    model.add(layers.Convolution2D(512, (3, 3), padding='same'))\n",
        "    model.add(layers.LeakyReLU(alpha=0.1)\n",
        "    model.add(layers.MaxPooling2D(pool_size=(2,2), strides=(2, 2), padding='same'))\n",
        "\n",
        "\n",
        "    # Block4\n",
        "    model.add(layers.Convolution2D(256, (1, 1), padding='same'))\n",
        "    model.add(layers.LeakyReLU(alpha=0.1))\n",
        "    model.add(layers.Convolution2D(512, (3, 3), padding='same'))\n",
        "    model.add(layers.LeakyReLU(alpha=0.1))\n",
        "    model.add(layers.Convolution2D(256, (1, 1), padding='same'))\n",
        "    model.add(layers.LeakyReLU(alpha=0.1))\n",
        "    model.add(layers.Convolution2D(512, (3, 3), padding='same'))\n",
        "    model.add(layers.LeakyReLU(alpha=0.1))\n",
        "    model.add(layers.Convolution2D(256, (1, 1), padding='same'))\n",
        "    model.add(layers.LeakyReLU(alpha=0.1))\n",
        "    model.add(layers.Convolution2D(512, (3, 3), padding='same'))\n",
        "    model.add(layers.LeakyReLU(alpha=0.1))\n",
        "    model.add(layers.Convolution2D(256, (1, 1), padding='same'))\n",
        "    model.add(layers.LeakyReLU(alpha=0.1))\n",
        "    model.add(layers.Convolution2D(512, (3, 3), padding='same'))\n",
        "    model.add(layers.LeakyReLU(alpha=0.1))\n",
        "    model.add(layers.Convolution2D(512, (1, 1), padding='same'))\n",
        "    model.add(layers.LeakyReLU(alpha=0.1))\n",
        "    model.add(layers.Convolution2D(1024, (3, 3), padding='same'))\n",
        "    model.add(layers.LeakyReLU(alpha=0.1))\n",
        "    model.add(layers.MaxPooling2D(pool_size=(2, 2), strides=(2, 2), padding='same'))\n",
        "    \n",
        "    \n",
        "    # Block5\n",
        "    model.add(layers.Convolution2D(512, (1, 1), padding='same'))\n",
        "    model.add(layers.LeakyReLU(alpha=0.1))\n",
        "    model.add(layers.Convolution2D(1024, (3, 3), padding='same'))\n",
        "    model.add(layers.LeakyReLU(alpha=0.1))\n",
        "    model.add(layers.Convolution2D(512, (1, 1), padding='same'))\n",
        "    model.add(layers.LeakyReLU(alpha=0.1))\n",
        "    model.add(layers.Convolution2D(1024, (3, 3), padding='same'))\n",
        "    model.add(layers.LeakyReLU(alpha=0.1))\n",
        "    model.add(layers.Convolution2D(1024, (3, 3), padding='same'))\n",
        "    model.add(layers.LeakyReLU(alpha=0.1))\n",
        "    model.add(layers.Convolution2D(1024, (3, 3), padding='same',strides=(2,2)))\n",
        "    model.add(layers.LeakyReLU(alpha=0.1))\n",
        "    \n",
        "    # Block6\n",
        "    model.add(layers.Convolution2D(1024, (3, 3), padding='same'))\n",
        "    model.add(layers.LeakyReLU(alpha=0.1))\n",
        "    model.add(layers.Convolution2D(1024, (3, 3), padding='same'))\n",
        "    model.add(layers.LeakyReLU(alpha=0.1))\n",
        "\n",
        "\n",
        "    # Last Block\n",
        "    model.add(layers.Flatten())\n",
        "    model.add(layers.Dense(4096))\n",
        "    model.add(layers.Dropout(0.5))\n",
        "    model.add(layers.Dense(7 * 7 * 30))\n",
        "    model.add(layers.Reshape(target_shape=(7, 7, 30)))\n",
        "    \n",
        "    return model\n"
      ],
      "execution_count": 3,
      "outputs": [
        {
          "output_type": "error",
          "ename": "SyntaxError",
          "evalue": "ignored",
          "traceback": [
            "\u001b[0;36m  File \u001b[0;32m\"<ipython-input-3-12defc4a74db>\"\u001b[0;36m, line \u001b[0;32m25\u001b[0m\n\u001b[0;31m    model.add(layers.Convolution2D(256,(1, 1), padding='same'))\u001b[0m\n\u001b[0m        ^\u001b[0m\n\u001b[0;31mSyntaxError\u001b[0m\u001b[0;31m:\u001b[0m invalid syntax\n"
          ]
        }
      ]
    }
  ]
}