{
  "nbformat": 4,
  "nbformat_minor": 0,
  "metadata": {
    "colab": {
      "name": "3 케라스(Keras) 기초부터 모델 생성까지.ipynb",
      "provenance": [],
      "collapsed_sections": [],
      "include_colab_link": true
    },
    "kernelspec": {
      "name": "python3",
      "display_name": "Python 3"
    }
  },
  "cells": [
    {
      "cell_type": "markdown",
      "metadata": {
        "id": "view-in-github",
        "colab_type": "text"
      },
      "source": [
        "<a href=\"https://colab.research.google.com/github/Raziel-JKM/CNN/blob/main/Keras/3_%EC%BC%80%EB%9D%BC%EC%8A%A4(Keras)_%EA%B8%B0%EC%B4%88%EB%B6%80%ED%84%B0_%EB%AA%A8%EB%8D%B8_%EC%83%9D%EC%84%B1%EA%B9%8C%EC%A7%80.ipynb\" target=\"_parent\"><img src=\"https://colab.research.google.com/assets/colab-badge.svg\" alt=\"Open In Colab\"/></a>"
      ]
    },
    {
      "cell_type": "markdown",
      "metadata": {
        "id": "DE8K6Qhjdw5Z"
      },
      "source": [
        "[동영상](https://www.youtube.com/watch?v=mzOpojTpliA&list=PL7ZVZgsnLwEHGS6EId3B_AnRYSCi_35rj)"
      ]
    },
    {
      "cell_type": "markdown",
      "metadata": {
        "id": "YmY-0QeUYcaa"
      },
      "source": [
        "# 케라스(Keras) 기초부터 모델 생성까지\n",
        "\n",
        "<img src=\"https://s3.amazonaws.com/keras.io/img/keras-logo-2018-large-1200.png\">\n",
        "\n",
        "- 파이썬으로 작성된 고수준 신경망 API로 TensorFlow, CNTK, 혹은 Theano와 함께 사용 가능\n",
        "- 사용자 친화성, 모듈성, 확장성을 통해 빠르고 간편한 프로토타이핑 가능\n",
        "- 컨볼루션 신경망, 순환 신경망, 그리고 둘의 조합까지 모두 지원\n",
        "- CPU와 GPU에서 매끄럽게 실행"
      ]
    },
    {
      "cell_type": "code",
      "metadata": {
        "id": "qBkF9tvAbX08",
        "colab": {
          "base_uri": "https://localhost:8080/",
          "height": 35
        },
        "outputId": "f637a8df-fd2a-4cb8-d34d-2645f4b3f6fd"
      },
      "source": [
        "from tensorflow import keras\n",
        "\n",
        "keras.__version__"
      ],
      "execution_count": null,
      "outputs": [
        {
          "output_type": "execute_result",
          "data": {
            "application/vnd.google.colaboratory.intrinsic+json": {
              "type": "string"
            },
            "text/plain": [
              "'2.6.0'"
            ]
          },
          "metadata": {},
          "execution_count": 3
        }
      ]
    },
    {
      "cell_type": "markdown",
      "metadata": {
        "id": "ih4Nb7nMbfMc"
      },
      "source": [
        "레이어들을 import하는 방식 (1)\n",
        "- 일일이 import 하지 않아도 됨\n",
        "\n",
        "- 코드가 다소 길어질 수 있음"
      ]
    },
    {
      "cell_type": "code",
      "metadata": {
        "id": "76J3cta0bd0e",
        "colab": {
          "base_uri": "https://localhost:8080/"
        },
        "outputId": "7d21a9cc-95ad-4963-d432-efe60d3bc891"
      },
      "source": [
        "keras.layers.Dense(10, activation='sigmoid')"
      ],
      "execution_count": null,
      "outputs": [
        {
          "output_type": "execute_result",
          "data": {
            "text/plain": [
              "<keras.layers.core.Dense at 0x7f46d1606810>"
            ]
          },
          "metadata": {},
          "execution_count": 4
        }
      ]
    },
    {
      "cell_type": "code",
      "metadata": {
        "id": "JZondHPTb6Vx",
        "colab": {
          "base_uri": "https://localhost:8080/"
        },
        "outputId": "0b9fdc10-5d88-4e2c-e734-d5c0b7bc2229"
      },
      "source": [
        "keras.Model()"
      ],
      "execution_count": null,
      "outputs": [
        {
          "output_type": "execute_result",
          "data": {
            "text/plain": [
              "<keras.engine.training.Model at 0x7f46d15b49d0>"
            ]
          },
          "metadata": {},
          "execution_count": 5
        }
      ]
    },
    {
      "cell_type": "code",
      "metadata": {
        "id": "inaUuk6Nb84X",
        "colab": {
          "base_uri": "https://localhost:8080/"
        },
        "outputId": "c8b7382a-8d83-452c-bb3c-9009de9815a5"
      },
      "source": [
        "keras.models.Sequential()"
      ],
      "execution_count": null,
      "outputs": [
        {
          "output_type": "execute_result",
          "data": {
            "text/plain": [
              "<keras.engine.sequential.Sequential at 0x7f46d1525950>"
            ]
          },
          "metadata": {},
          "execution_count": 6
        }
      ]
    },
    {
      "cell_type": "code",
      "metadata": {
        "id": "NBNQZ7GxcF2H"
      },
      "source": [
        ""
      ],
      "execution_count": null,
      "outputs": []
    },
    {
      "cell_type": "markdown",
      "metadata": {
        "id": "XseyoEwjbrO-"
      },
      "source": [
        "레이어들을 import하는 방식 (2)\n",
        "- 일일이 import 해야함\n",
        "- 코드가 간결"
      ]
    },
    {
      "cell_type": "code",
      "metadata": {
        "id": "W8WLjvCZbwoF"
      },
      "source": [
        "from tensorflow.keras.layers import Dense, Input, Flatten, Activation\n",
        "from tensorflow.keras.models import Sequential\n",
        "from tensorflow.keras import Model"
      ],
      "execution_count": null,
      "outputs": []
    },
    {
      "cell_type": "code",
      "metadata": {
        "id": "nYcV0CnVcWJO",
        "colab": {
          "base_uri": "https://localhost:8080/"
        },
        "outputId": "fffc0e90-fa44-418c-fd1d-06219cf0299d"
      },
      "source": [
        "Dense(10, activation='relu')"
      ],
      "execution_count": null,
      "outputs": [
        {
          "output_type": "execute_result",
          "data": {
            "text/plain": [
              "<keras.layers.core.Dense at 0x7f46d15379d0>"
            ]
          },
          "metadata": {},
          "execution_count": 8
        }
      ]
    },
    {
      "cell_type": "code",
      "metadata": {
        "id": "RMd9TR6FcWDr",
        "colab": {
          "base_uri": "https://localhost:8080/"
        },
        "outputId": "56f83774-11fc-4ebe-dd40-c7570afba1e4"
      },
      "source": [
        "Flatten(input_shape=[28,28]) #이미지에 주로 쓰였던거같은데 확인"
      ],
      "execution_count": null,
      "outputs": [
        {
          "output_type": "execute_result",
          "data": {
            "text/plain": [
              "<keras.layers.core.Flatten at 0x7f46cdd5d590>"
            ]
          },
          "metadata": {},
          "execution_count": 9
        }
      ]
    },
    {
      "cell_type": "code",
      "metadata": {
        "id": "8_Ho3qKbcjOr",
        "colab": {
          "base_uri": "https://localhost:8080/"
        },
        "outputId": "4156e31d-9e30-492f-a61f-46b367e4e5fb"
      },
      "source": [
        "import numpy as np\n",
        "\n",
        "X_train = np.random.randn(5500, 2)\n",
        "\n",
        "Input(shape=X_train.shape[1:])"
      ],
      "execution_count": null,
      "outputs": [
        {
          "output_type": "execute_result",
          "data": {
            "text/plain": [
              "<KerasTensor: shape=(None, 2) dtype=float32 (created by layer 'input_1')>"
            ]
          },
          "metadata": {},
          "execution_count": 10
        }
      ]
    },
    {
      "cell_type": "markdown",
      "metadata": {
        "id": "1Qz5gkr70p12"
      },
      "source": [
        "## 주요 레이어"
      ]
    },
    {
      "cell_type": "markdown",
      "metadata": {
        "id": "Vl0XJyRvbNh5"
      },
      "source": [
        "### Dense\n",
        "- Fully-Connected Layer\n",
        "\n",
        "- 노드수(유닛수), 활성화 함수 등을 지정\n",
        "\n",
        "- name을 통한 레이어간 구분 가능\n",
        "\n",
        "- 기본적으로  \n",
        " (Xavier 최기화) 'Glorot_uniform' 가중치, zeros bias로 초기화\n",
        "  - kernel_initializer 인자를 통해 다른 가중치 초기화를 진행할 수 있음"
      ]
    },
    {
      "cell_type": "code",
      "metadata": {
        "id": "0By3apmYYe31"
      },
      "source": [
        "dense = Dense(10, activation='relu', name='Dense Layer') #Dense에 이름을 붙일 수 있다."
      ],
      "execution_count": null,
      "outputs": []
    },
    {
      "cell_type": "code",
      "metadata": {
        "id": "KUAMqoGNd9gq",
        "colab": {
          "base_uri": "https://localhost:8080/"
        },
        "outputId": "4c42ee3c-0aa2-40aa-be6a-383766e8df79"
      },
      "source": [
        "dense"
      ],
      "execution_count": null,
      "outputs": [
        {
          "output_type": "execute_result",
          "data": {
            "text/plain": [
              "<keras.layers.core.Dense at 0x7f46cdd5d150>"
            ]
          },
          "metadata": {},
          "execution_count": 12
        }
      ]
    },
    {
      "cell_type": "code",
      "metadata": {
        "id": "nhb-kQGzhJWC"
      },
      "source": [
        "dense2 = Dense(15, activation='softmax')"
      ],
      "execution_count": null,
      "outputs": []
    },
    {
      "cell_type": "code",
      "metadata": {
        "id": "IF_zVkbnhJPz",
        "colab": {
          "base_uri": "https://localhost:8080/"
        },
        "outputId": "75d56999-4409-4f3f-e69f-a314f6019cc0"
      },
      "source": [
        "dense2"
      ],
      "execution_count": null,
      "outputs": [
        {
          "output_type": "execute_result",
          "data": {
            "text/plain": [
              "<keras.layers.core.Dense at 0x7f46cdd8c650>"
            ]
          },
          "metadata": {},
          "execution_count": 14
        }
      ]
    },
    {
      "cell_type": "markdown",
      "metadata": {
        "id": "v6kPbw7ZJ0W5"
      },
      "source": [
        "### Activation\n",
        "- Dense layer에서 미리 활성화함수를 지정할 수도 있지만 때에 따라서 따로 레이어를 만들어줄 수 있음"
      ]
    },
    {
      "cell_type": "code",
      "metadata": {
        "id": "71iUDTGUJ8vu",
        "colab": {
          "base_uri": "https://localhost:8080/"
        },
        "outputId": "ea35cb7a-f4cb-4969-c016-3849f8528e82"
      },
      "source": [
        "dense = Dense(10, kernel_initializer='he_normal', name='Dense Layer') #kernel_initializer 인자를 통해 다른 가중치 초기화\n",
        "dense = Activation(dense) #이렇게도 쓸 수 있음\n",
        "dense"
      ],
      "execution_count": null,
      "outputs": [
        {
          "output_type": "execute_result",
          "data": {
            "text/plain": [
              "<keras.layers.core.Activation at 0x7f46cdd92e50>"
            ]
          },
          "metadata": {},
          "execution_count": 15
        }
      ]
    },
    {
      "cell_type": "markdown",
      "metadata": {
        "id": "NYDu0hcJejJh"
      },
      "source": [
        "### Flatten\n",
        "- 배치 크기(또는 데이터 크기)를 제외하고 데이터를 1차원으로 쭉 펼치는 작업\n",
        "\n",
        "- 예시)\n",
        "        (128, 3, 2, 2) ---> (128, 12)\n",
        "      "
      ]
    },
    {
      "cell_type": "code",
      "metadata": {
        "id": "3HzBfkjRd-dN",
        "colab": {
          "base_uri": "https://localhost:8080/"
        },
        "outputId": "bb573798-5349-482d-e44a-36aacfd40c5c"
      },
      "source": [
        "Flatten(input_shape=(28,28))"
      ],
      "execution_count": null,
      "outputs": [
        {
          "output_type": "execute_result",
          "data": {
            "text/plain": [
              "<keras.layers.core.Flatten at 0x7f46cdd5dcd0>"
            ]
          },
          "metadata": {},
          "execution_count": 16
        }
      ]
    },
    {
      "cell_type": "markdown",
      "metadata": {
        "id": "gREcwh2cg1Zc"
      },
      "source": [
        "### Input \n",
        "- 모델의 입력을 정의\n",
        "\n",
        "- shape, dtype을 포함\n",
        "\n",
        "- 하나의 모델은 여러 개의 입력을 가질 수 있음\n",
        "\n",
        "- summary() 메소드를 통해서는 보이지 않음"
      ]
    },
    {
      "cell_type": "code",
      "metadata": {
        "id": "2_kWKUMUefMf"
      },
      "source": [
        "import tensorflow as tf\n",
        "\n",
        "input_1 = Input(shape=(28,28), dtype = tf.float32) #dtype ,shape 설정 가능\n",
        "input_2 = Input(shape=(8,), dtype=tf.int32)"
      ],
      "execution_count": null,
      "outputs": []
    },
    {
      "cell_type": "code",
      "metadata": {
        "id": "1ErOXHCgh6gq",
        "colab": {
          "base_uri": "https://localhost:8080/"
        },
        "outputId": "ab55cf7a-54c2-44dc-d623-2fd73778b202"
      },
      "source": [
        "input_1"
      ],
      "execution_count": null,
      "outputs": [
        {
          "output_type": "execute_result",
          "data": {
            "text/plain": [
              "<KerasTensor: shape=(None, 28, 28) dtype=float32 (created by layer 'input_2')>"
            ]
          },
          "metadata": {},
          "execution_count": 18
        }
      ]
    },
    {
      "cell_type": "code",
      "metadata": {
        "id": "ic2vspIbh87y",
        "colab": {
          "base_uri": "https://localhost:8080/"
        },
        "outputId": "5265395c-230d-4b03-e13e-ed4efcf3fbe2"
      },
      "source": [
        "input_2"
      ],
      "execution_count": null,
      "outputs": [
        {
          "output_type": "execute_result",
          "data": {
            "text/plain": [
              "<KerasTensor: shape=(None, 8) dtype=int32 (created by layer 'input_3')>"
            ]
          },
          "metadata": {},
          "execution_count": 19
        }
      ]
    },
    {
      "cell_type": "markdown",
      "metadata": {
        "id": "_BMMAUoKjVC6"
      },
      "source": [
        "## 모델 구성 방법\n",
        "- Sequential()\n",
        "\n",
        "- 서브클래싱(Subclassing)\n",
        "\n",
        "- 함수형 API"
      ]
    },
    {
      "cell_type": "markdown",
      "metadata": {
        "id": "QckCD5TQjubf"
      },
      "source": [
        "### Sequential()\n",
        "\n",
        "- 모델이 순차적으로 진행할 때 사용\n",
        "\n",
        "- 간단한 방법\n",
        "  - Sequential 객체 생성 후, **add**를 통한 방법\n",
        "  \n",
        "  - Sequential 인자에 한번에 추가\n",
        "\n",
        "- 다중 입력 및 출력이 존재하는 등의 복잡한 모델을 구성할 수 없음\n"
      ]
    },
    {
      "cell_type": "code",
      "metadata": {
        "id": "0TaLg9w4h9_Z"
      },
      "source": [
        "from tensorflow.keras.layers import Dense, Input, Flatten\n",
        "from tensorflow.keras.models import Sequential, Model\n",
        "from tensorflow.keras.utils import plot_model"
      ],
      "execution_count": null,
      "outputs": []
    },
    {
      "cell_type": "code",
      "metadata": {
        "id": "AaZWV6DckLz-"
      },
      "source": [
        "model = Sequential()\n",
        "model.add(Input(shape=(28, 28)))\n",
        "model.add(Dense(300, activation='relu'))\n",
        "model.add(Dense(100, activation='relu'))\n",
        "model.add(Dense(10, activation='softmax'))"
      ],
      "execution_count": null,
      "outputs": []
    },
    {
      "cell_type": "markdown",
      "metadata": {
        "id": "uPelUwFwk-ap"
      },
      "source": [
        "모델 구조 확인\n",
        "- model 객체의 **summary()** 이용"
      ]
    },
    {
      "cell_type": "code",
      "metadata": {
        "id": "11qLpBoRkVd6"
      },
      "source": [
        "model.summary()#input은 summary레이어에서는 보이지 않는다"
      ],
      "execution_count": null,
      "outputs": []
    },
    {
      "cell_type": "code",
      "metadata": {
        "id": "4AO6KrJzlAwh"
      },
      "source": [
        ""
      ],
      "execution_count": null,
      "outputs": []
    },
    {
      "cell_type": "code",
      "metadata": {
        "id": "ezAsiEPhJWsU"
      },
      "source": [
        ""
      ],
      "execution_count": null,
      "outputs": []
    },
    {
      "cell_type": "code",
      "metadata": {
        "id": "ktw3lIKKlDx5"
      },
      "source": [
        ""
      ],
      "execution_count": null,
      "outputs": []
    },
    {
      "cell_type": "code",
      "metadata": {
        "id": "SqNs_lvWlrfg"
      },
      "source": [
        ""
      ],
      "execution_count": null,
      "outputs": []
    },
    {
      "cell_type": "code",
      "metadata": {
        "id": "ePBTYE0FltI_"
      },
      "source": [
        ""
      ],
      "execution_count": null,
      "outputs": []
    },
    {
      "cell_type": "code",
      "metadata": {
        "id": "ohU5iTldJOXT"
      },
      "source": [
        ""
      ],
      "execution_count": null,
      "outputs": []
    },
    {
      "cell_type": "markdown",
      "metadata": {
        "id": "ZM04XyfbrBpX"
      },
      "source": [
        "### 함수형 API\n",
        "\n",
        "- 가장 권장되는 방벚\n",
        "\n",
        "- 모델을 복잡하고, 유연하게 구성 가능\n",
        "\n",
        "- 다중 입출력을 다룰 수 있음"
      ]
    },
    {
      "cell_type": "code",
      "metadata": {
        "id": "0XjcLyjetLdh"
      },
      "source": [
        ""
      ],
      "execution_count": null,
      "outputs": []
    },
    {
      "cell_type": "code",
      "metadata": {
        "id": "IvJZX1mbtZNm"
      },
      "source": [
        ""
      ],
      "execution_count": null,
      "outputs": []
    },
    {
      "cell_type": "code",
      "metadata": {
        "id": "_C4-YXaYtZG2"
      },
      "source": [
        ""
      ],
      "execution_count": null,
      "outputs": []
    },
    {
      "cell_type": "code",
      "metadata": {
        "id": "541mCIP_utZ0"
      },
      "source": [
        ""
      ],
      "execution_count": null,
      "outputs": []
    },
    {
      "cell_type": "code",
      "metadata": {
        "id": "9eqHbjseuzmi"
      },
      "source": [
        ""
      ],
      "execution_count": null,
      "outputs": []
    },
    {
      "cell_type": "code",
      "metadata": {
        "id": "4zp-khCAJ_Rg"
      },
      "source": [
        ""
      ],
      "execution_count": null,
      "outputs": []
    },
    {
      "cell_type": "code",
      "metadata": {
        "id": "3iAC6QhRwsBn"
      },
      "source": [
        ""
      ],
      "execution_count": null,
      "outputs": []
    },
    {
      "cell_type": "code",
      "metadata": {
        "id": "c2VgxtTgwr5_"
      },
      "source": [
        ""
      ],
      "execution_count": null,
      "outputs": []
    },
    {
      "cell_type": "code",
      "metadata": {
        "id": "rMPkFz43xvwA"
      },
      "source": [
        ""
      ],
      "execution_count": null,
      "outputs": []
    },
    {
      "cell_type": "code",
      "metadata": {
        "id": "Mcq5LtfcKBh_"
      },
      "source": [
        ""
      ],
      "execution_count": null,
      "outputs": []
    },
    {
      "cell_type": "code",
      "metadata": {
        "id": "wvtGiFj6x6qa"
      },
      "source": [
        ""
      ],
      "execution_count": null,
      "outputs": []
    },
    {
      "cell_type": "code",
      "metadata": {
        "id": "aVvTOFzfx61O"
      },
      "source": [
        ""
      ],
      "execution_count": null,
      "outputs": []
    },
    {
      "cell_type": "code",
      "metadata": {
        "id": "nfxZETTvx6zE"
      },
      "source": [
        ""
      ],
      "execution_count": null,
      "outputs": []
    },
    {
      "cell_type": "code",
      "metadata": {
        "id": "xkJlrolMKD6B"
      },
      "source": [
        ""
      ],
      "execution_count": null,
      "outputs": []
    },
    {
      "cell_type": "code",
      "metadata": {
        "id": "qGorWfShzuYS"
      },
      "source": [
        ""
      ],
      "execution_count": null,
      "outputs": []
    },
    {
      "cell_type": "code",
      "metadata": {
        "id": "r-VZlGGczugL"
      },
      "source": [
        ""
      ],
      "execution_count": null,
      "outputs": []
    },
    {
      "cell_type": "code",
      "metadata": {
        "id": "VWiRsHIB0ROK"
      },
      "source": [
        ""
      ],
      "execution_count": null,
      "outputs": []
    },
    {
      "cell_type": "code",
      "metadata": {
        "id": "121rkvNOKF43"
      },
      "source": [
        ""
      ],
      "execution_count": null,
      "outputs": []
    },
    {
      "cell_type": "code",
      "metadata": {
        "id": "i31xM7skx6xD"
      },
      "source": [
        ""
      ],
      "execution_count": null,
      "outputs": []
    },
    {
      "cell_type": "code",
      "metadata": {
        "id": "tmD5BP2izGQJ"
      },
      "source": [
        ""
      ],
      "execution_count": null,
      "outputs": []
    },
    {
      "cell_type": "code",
      "metadata": {
        "id": "0UjQwGT-x6Bo"
      },
      "source": [
        ""
      ],
      "execution_count": null,
      "outputs": []
    },
    {
      "cell_type": "code",
      "metadata": {
        "id": "QpuecYvrKH_i"
      },
      "source": [
        ""
      ],
      "execution_count": null,
      "outputs": []
    },
    {
      "cell_type": "markdown",
      "metadata": {
        "id": "MRQUHfuHmW9a"
      },
      "source": [
        "### 서브클래싱(Subclassing)\n",
        "- 커스터마이징에 최적화된 방법\n",
        "\n",
        "- Model 클래스를 상속받아 Model이 포함하는 기능을 사용할 수 있음  \n",
        "  - `fit()`, `evaluate()`, `predict()`\n",
        "  - `save()`, `load()`\n",
        "\n",
        "- 주로 `call()` 메소드안에서 원하는 계산 가능\n",
        "  - for, if, 저수준 연산 등\n",
        "\n",
        "- 권장되는 방법은 아니지만 어떤 모델의 구현 코드를 참고할 때  \n",
        "  해석할 수 있어야함"
      ]
    },
    {
      "cell_type": "code",
      "metadata": {
        "id": "J8edl37Ylv7h"
      },
      "source": [
        ""
      ],
      "execution_count": null,
      "outputs": []
    },
    {
      "cell_type": "code",
      "metadata": {
        "id": "7JKLw7bNsRcr"
      },
      "source": [
        ""
      ],
      "execution_count": null,
      "outputs": []
    },
    {
      "cell_type": "markdown",
      "metadata": {
        "id": "a8TkTb9x6_KI"
      },
      "source": [
        "## 모델 가중치 확인"
      ]
    },
    {
      "cell_type": "code",
      "metadata": {
        "id": "A12S4z1qpfwh"
      },
      "source": [
        ""
      ],
      "execution_count": null,
      "outputs": []
    },
    {
      "cell_type": "code",
      "metadata": {
        "id": "HLgHWRTv7D2L"
      },
      "source": [
        ""
      ],
      "execution_count": null,
      "outputs": []
    },
    {
      "cell_type": "code",
      "metadata": {
        "id": "b_34PqiU7Dvz"
      },
      "source": [
        ""
      ],
      "execution_count": null,
      "outputs": []
    },
    {
      "cell_type": "markdown",
      "metadata": {
        "id": "KK-5msf3qRo0"
      },
      "source": [
        "모델의 레이어들이 리스트로 표현됨\n"
      ]
    },
    {
      "cell_type": "code",
      "metadata": {
        "id": "Tf2F-J8vpi49"
      },
      "source": [
        ""
      ],
      "execution_count": null,
      "outputs": []
    },
    {
      "cell_type": "code",
      "metadata": {
        "id": "-aHbATTApi0h"
      },
      "source": [
        ""
      ],
      "execution_count": null,
      "outputs": []
    },
    {
      "cell_type": "markdown",
      "metadata": {
        "id": "t1DREsBb5iJE"
      },
      "source": [
        "위의 layer name 참고"
      ]
    },
    {
      "cell_type": "code",
      "metadata": {
        "id": "nCrffB2wqNW8"
      },
      "source": [
        ""
      ],
      "execution_count": null,
      "outputs": []
    },
    {
      "cell_type": "code",
      "metadata": {
        "id": "OJGopmDxqcO1"
      },
      "source": [
        ""
      ],
      "execution_count": null,
      "outputs": []
    },
    {
      "cell_type": "code",
      "metadata": {
        "id": "j7zkvduWqhhw"
      },
      "source": [
        ""
      ],
      "execution_count": null,
      "outputs": []
    },
    {
      "cell_type": "code",
      "metadata": {
        "id": "jZsI7ExUqhcH"
      },
      "source": [
        ""
      ],
      "execution_count": null,
      "outputs": []
    },
    {
      "cell_type": "code",
      "metadata": {
        "id": "yS8ljwRlqkMc"
      },
      "source": [
        ""
      ],
      "execution_count": null,
      "outputs": []
    },
    {
      "cell_type": "markdown",
      "metadata": {
        "id": "PTFFAcfb2DSF"
      },
      "source": [
        "## 모델 컴파일(compile)\n",
        "\n",
        "- 모델을 구성한 후, 사용할 손실함수(loss), 옵티마이저(optimizer)를 지정\n"
      ]
    },
    {
      "cell_type": "code",
      "metadata": {
        "id": "jp4t9-iF2xpN"
      },
      "source": [
        ""
      ],
      "execution_count": null,
      "outputs": []
    },
    {
      "cell_type": "markdown",
      "metadata": {
        "id": "a8Y5B43W3EmY"
      },
      "source": [
        "### 참고1\n",
        "\n",
        "#### loss\n",
        "- `keras.losses.sparse_categorical_crossentropy` 등과 같이 지정 가능\n",
        "  - `sparse_categorical_crossentropy`  \n",
        "    클래스가 배타적, 즉 MNIST 예제에서 (0, 1, 2, ..., 9)와 같은 방식으로 구분되어 있을 때 사용\n",
        "\n",
        "  - `categorical_cross_entropy`\n",
        "    클래스가 원-핫 인코딩 방식으로 되어 있을 때 사용\n",
        "\n",
        "  - `binary_crossentropy`\n",
        "  이진 분류를 수행할 때 사용\n",
        "\n",
        "\n",
        "#### optimizer\n",
        "- `keras.optimizer.SGD()` 등과 같이 사용 가능\n",
        "  - 보통 옵티마이저의 튜닝을 위해 따로 객체를 생성하여 컴파일    \n",
        "        optimizer = keras.optimizer.SGD(learning_rate=1e-5)  \n",
        "        model.compile(...,\n",
        "                      optimizer=optimzer,\n",
        "                      ...)\n",
        "\n",
        "- `keras.optimizer.Adam()` 도 많이 사용\n",
        "\n",
        "#### metrics\n",
        "- 모니터링할 지표\n",
        "\n",
        "- 주로 'accuracy', 'acc'로도 가능\n"
      ]
    },
    {
      "cell_type": "markdown",
      "metadata": {
        "id": "8k7z79M1Kv-x"
      },
      "source": [
        "### 참고2 - 컴파일 설정 예시\n",
        "- 평균 제곱 오차 회귀 문제  \n",
        "      model.compile(loss = 'mse',  \n",
        "                    optimizer = RMSprop(),  \n",
        "                    metrics=['mae'])\n",
        "\n",
        "- 이진 분류\n",
        "      model.compile(loss = 'binary_crossentropy',  \n",
        "                    optimizer = RMSprop(),  \n",
        "                    metrics=['accuracy])\n",
        "\n",
        "\n",
        "\n",
        "- 다항 분류\n",
        "      model.compile(loss = 'categorical_crossentropy',  \n",
        "                    optimizer = RMSprop(),  \n",
        "                    metrics=['accuracy])\n",
        " \n"
      ]
    },
    {
      "cell_type": "markdown",
      "metadata": {
        "id": "hKAtKRop3AvE"
      },
      "source": [
        "## 모델 훈련, 평가 및 예측\n",
        "- `fit()` 함수\n",
        "\n",
        "  - train_data(학습 데이터), train_label(데이터의 정답)\n",
        "  \n",
        "  - epochs\n",
        "  \n",
        "  - batch_size\n",
        "  \n",
        "  - validation_data\n",
        "\n",
        "- `evaluate()` 함수\n",
        "  - 테스트 데이터\n",
        "\n",
        "\n",
        "- `predict()`\n",
        "  임의의 데이터를 인자로 넣어 예측 가능"
      ]
    },
    {
      "cell_type": "markdown",
      "metadata": {
        "id": "WDPKNEsm2qTQ"
      },
      "source": [
        "## MNIST 예제를 통해 모델 구성하기\n",
        "\n",
        "- keras.datasets 에 포함되어 있는 데이터셋\n",
        "\n",
        "  <img src=\"https://storage.googleapis.com/tfds-data/visualization/fig/mnist-3.0.1.png\" width=\"400\">\n",
        "\n",
        "  <sub>출처: https://www.tensorflow.org/datasets/catalog/mnist</sub>"
      ]
    },
    {
      "cell_type": "markdown",
      "metadata": {
        "id": "Q1CMnkAQGvYE"
      },
      "source": [
        "### modules import"
      ]
    },
    {
      "cell_type": "code",
      "metadata": {
        "id": "1AKwa2VeGxqf"
      },
      "source": [
        ""
      ],
      "execution_count": null,
      "outputs": []
    },
    {
      "cell_type": "markdown",
      "metadata": {
        "id": "vEJBVkwzGpsX"
      },
      "source": [
        "### 데이터셋 로드\n",
        "- MNIST 데이터셋을 로드\n",
        "\n",
        "- Train Data 중, 30%를 검증 데이터(valiation data)로 사용\n"
      ]
    },
    {
      "cell_type": "code",
      "metadata": {
        "id": "_OGqRrXg2URI"
      },
      "source": [
        ""
      ],
      "execution_count": null,
      "outputs": []
    },
    {
      "cell_type": "markdown",
      "metadata": {
        "id": "Vyci_3GlH52j"
      },
      "source": [
        "### 데이터 확인"
      ]
    },
    {
      "cell_type": "code",
      "metadata": {
        "id": "xYDatr9Q2UsB"
      },
      "source": [
        ""
      ],
      "execution_count": null,
      "outputs": []
    },
    {
      "cell_type": "code",
      "metadata": {
        "id": "uqff0qU_2VRV"
      },
      "source": [
        ""
      ],
      "execution_count": null,
      "outputs": []
    },
    {
      "cell_type": "code",
      "metadata": {
        "id": "OPlhbVEJ2VNs"
      },
      "source": [
        ""
      ],
      "execution_count": null,
      "outputs": []
    },
    {
      "cell_type": "code",
      "metadata": {
        "id": "I0aqzgMM2VKg"
      },
      "source": [
        ""
      ],
      "execution_count": null,
      "outputs": []
    },
    {
      "cell_type": "markdown",
      "metadata": {
        "id": "Du5KAU8COICG"
      },
      "source": [
        "### 데이터 전처리\n",
        "- Normalization"
      ]
    },
    {
      "cell_type": "code",
      "metadata": {
        "id": "CMvKiV6POJaR"
      },
      "source": [
        ""
      ],
      "execution_count": null,
      "outputs": []
    },
    {
      "cell_type": "code",
      "metadata": {
        "id": "bMuBGKWxP7DM"
      },
      "source": [
        ""
      ],
      "execution_count": null,
      "outputs": []
    },
    {
      "cell_type": "markdown",
      "metadata": {
        "id": "S9ke94boKfre"
      },
      "source": [
        "### 모델 구성 (Sequential)"
      ]
    },
    {
      "cell_type": "code",
      "metadata": {
        "id": "ZBfX4bt52UoZ"
      },
      "source": [
        ""
      ],
      "execution_count": null,
      "outputs": []
    },
    {
      "cell_type": "code",
      "metadata": {
        "id": "QYsY9ghjO0RW"
      },
      "source": [
        ""
      ],
      "execution_count": null,
      "outputs": []
    },
    {
      "cell_type": "code",
      "metadata": {
        "id": "zE-EHHkK2UMG"
      },
      "source": [
        ""
      ],
      "execution_count": null,
      "outputs": []
    },
    {
      "cell_type": "code",
      "metadata": {
        "id": "KW7h-7mR26Xf"
      },
      "source": [
        ""
      ],
      "execution_count": null,
      "outputs": []
    },
    {
      "cell_type": "markdown",
      "metadata": {
        "id": "ttXdLuQsQE_k"
      },
      "source": [
        "### 모델 컴파일"
      ]
    },
    {
      "cell_type": "code",
      "metadata": {
        "id": "EXld9Ehd2UJW"
      },
      "source": [
        ""
      ],
      "execution_count": null,
      "outputs": []
    },
    {
      "cell_type": "markdown",
      "metadata": {
        "id": "TeRlwrsNQUP_"
      },
      "source": [
        "### 모델 학습\n",
        "- 모델 시각화를 위해 history라는 변수에 학습 과정을 담음"
      ]
    },
    {
      "cell_type": "code",
      "metadata": {
        "id": "5TaYebESQT0X"
      },
      "source": [
        ""
      ],
      "execution_count": null,
      "outputs": []
    },
    {
      "cell_type": "markdown",
      "metadata": {
        "id": "0XaPJX7sRVzi"
      },
      "source": [
        "### 학습 결과 시각화"
      ]
    },
    {
      "cell_type": "code",
      "metadata": {
        "id": "vAnCqu9ARVTw"
      },
      "source": [
        ""
      ],
      "execution_count": null,
      "outputs": []
    },
    {
      "cell_type": "code",
      "metadata": {
        "id": "MHfJkN2lRVOc"
      },
      "source": [
        ""
      ],
      "execution_count": null,
      "outputs": []
    },
    {
      "cell_type": "markdown",
      "metadata": {
        "id": "Gwl7tQLcTZnW"
      },
      "source": [
        "### 모델 평가 (1)\n",
        "- evaluate"
      ]
    },
    {
      "cell_type": "code",
      "metadata": {
        "id": "gX7HcpeoTZGU"
      },
      "source": [
        ""
      ],
      "execution_count": null,
      "outputs": []
    },
    {
      "cell_type": "markdown",
      "metadata": {
        "id": "ZIV4MhWSTtqH"
      },
      "source": [
        "### 학습된 모델을 통해 값 예측"
      ]
    },
    {
      "cell_type": "code",
      "metadata": {
        "id": "te5Wt3jFTY8g"
      },
      "source": [
        ""
      ],
      "execution_count": null,
      "outputs": []
    },
    {
      "cell_type": "code",
      "metadata": {
        "id": "uJHPRGpMTnnM"
      },
      "source": [
        ""
      ],
      "execution_count": null,
      "outputs": []
    },
    {
      "cell_type": "markdown",
      "metadata": {
        "id": "G6ypcp0iVyjj"
      },
      "source": [
        "### 모델 평가 (2)\n",
        "- 혼동행렬 (Confusion Maxtrix)"
      ]
    },
    {
      "cell_type": "code",
      "metadata": {
        "id": "8fN2G31JTnrY"
      },
      "source": [
        ""
      ],
      "execution_count": null,
      "outputs": []
    },
    {
      "cell_type": "code",
      "metadata": {
        "id": "IPX11GMeTnt-"
      },
      "source": [
        ""
      ],
      "execution_count": null,
      "outputs": []
    },
    {
      "cell_type": "markdown",
      "metadata": {
        "id": "BMo2g1TZWctY"
      },
      "source": [
        "### 모델 평가 (3)\n",
        "- 분류 보고서"
      ]
    },
    {
      "cell_type": "code",
      "metadata": {
        "id": "J1n_j_h4TnjP"
      },
      "source": [
        ""
      ],
      "execution_count": null,
      "outputs": []
    },
    {
      "cell_type": "markdown",
      "metadata": {
        "id": "6VWo95AB0W2v"
      },
      "source": [
        "## 모델 저장과 복원\n",
        "- `save()`\n",
        "\n",
        "- `load_model()`\n",
        "\n",
        "- (주의)  \n",
        "  시퀀셜 API, 함수형 API에서는 **모델**의 저장 및 로드기 가능하지만 서브클래싱 방식으로는 할 수 없음  \n",
        "  \n",
        "  서브클래싱 방식\n",
        "      save_weights()\n",
        "      load_weights()  \n",
        "  위 두가지를 통해 **모델의 파라미터**만 저장 및 로드\n",
        "\n",
        "\n",
        "- JSON 형식\n",
        "  - `model.to_json()` (저장)\n",
        "\n",
        "  - `tf.keras.models.model_from_json(file_path)` (복원)\n",
        "\n",
        "- YAML로 직렬화\n",
        "  - `model.to_yaml()` (저장)\n",
        "\n",
        "  - `tf.keras.models.model_from_yaml(file_path)` (복원)\n"
      ]
    },
    {
      "cell_type": "code",
      "metadata": {
        "id": "qI-OJUAvtkZs"
      },
      "source": [
        ""
      ],
      "execution_count": null,
      "outputs": []
    },
    {
      "cell_type": "code",
      "metadata": {
        "id": "CKkUgRlEX9yN"
      },
      "source": [
        ""
      ],
      "execution_count": null,
      "outputs": []
    },
    {
      "cell_type": "code",
      "metadata": {
        "id": "xcSNxvvLYMJO"
      },
      "source": [
        ""
      ],
      "execution_count": null,
      "outputs": []
    },
    {
      "cell_type": "code",
      "metadata": {
        "id": "qUAZUdOpZOqp"
      },
      "source": [
        ""
      ],
      "execution_count": null,
      "outputs": []
    },
    {
      "cell_type": "code",
      "metadata": {
        "id": "lGcJHpbJaRiN"
      },
      "source": [
        ""
      ],
      "execution_count": null,
      "outputs": []
    },
    {
      "cell_type": "markdown",
      "metadata": {
        "id": "vwprko04qWeg"
      },
      "source": [
        "## 콜백 (Callbacks)\n",
        "\n",
        "- `fit()` 함수의 callbacks 매개변수를 사용하여 케라스가 훈련의 시작이나 끝에 호출할 객체 리스트를 지정할 수 있음\n",
        "\n",
        "- 여러 개 사용 가능\n",
        "\n",
        "- ModelCheckpoint\n",
        "  - `tf.keras.callbacks.ModelCheckpoint`\n",
        "  - 정기적으로 모델의 체크포인트를 저장하고, 문제가 발생할 때 복구하는데 사용\n",
        "\n",
        "- EarlyStopping\n",
        "  - `tf.keras.callbacks.EarlyStopping`\n",
        "  - 검증 성능이 한동안 개선되지 않을 경우 학습을 중단할 때 사용\n",
        "\n",
        "- LearningRateSchduler\n",
        "  - `tf.keras.callbacks.LearningRateSchduler`\n",
        "  - 최적화를 하는 동안 학습률(learning_rate)를 동적으로 변경할 때 사용\n",
        "\n",
        "- TensorBoard\n",
        "  - `tf.keras.callbacks.TensorBoard`\n",
        "  - 모델의 경과를 모니터링할 때 사용\n"
      ]
    },
    {
      "cell_type": "code",
      "metadata": {
        "id": "0_oKQ3gw4Gtp"
      },
      "source": [
        ""
      ],
      "execution_count": null,
      "outputs": []
    },
    {
      "cell_type": "code",
      "metadata": {
        "id": "ENnkJ6Qq2JQm"
      },
      "source": [
        ""
      ],
      "execution_count": null,
      "outputs": []
    },
    {
      "cell_type": "code",
      "metadata": {
        "id": "Olb_CPA33UPe"
      },
      "source": [
        ""
      ],
      "execution_count": null,
      "outputs": []
    },
    {
      "cell_type": "markdown",
      "metadata": {
        "id": "xNBMnd5IgE8H"
      },
      "source": [
        "### ModelCheckpoint"
      ]
    },
    {
      "cell_type": "code",
      "metadata": {
        "id": "tVOIVgBnqdIg"
      },
      "source": [
        ""
      ],
      "execution_count": null,
      "outputs": []
    },
    {
      "cell_type": "code",
      "metadata": {
        "id": "HAHm-GqSqdE7"
      },
      "source": [
        ""
      ],
      "execution_count": null,
      "outputs": []
    },
    {
      "cell_type": "code",
      "metadata": {
        "id": "h4Z8KGWSqdBb"
      },
      "source": [
        ""
      ],
      "execution_count": null,
      "outputs": []
    },
    {
      "cell_type": "markdown",
      "metadata": {
        "id": "dGv8fIyo4_Th"
      },
      "source": [
        "최상의 모델만을 저장\n",
        "- save_best_only=True"
      ]
    },
    {
      "cell_type": "code",
      "metadata": {
        "id": "4W4rJEOsqc98"
      },
      "source": [
        ""
      ],
      "execution_count": null,
      "outputs": []
    },
    {
      "cell_type": "code",
      "metadata": {
        "id": "r2QNCtmjqc6f"
      },
      "source": [
        ""
      ],
      "execution_count": null,
      "outputs": []
    },
    {
      "cell_type": "code",
      "metadata": {
        "id": "_HlEkRagqc3D"
      },
      "source": [
        ""
      ],
      "execution_count": null,
      "outputs": []
    },
    {
      "cell_type": "markdown",
      "metadata": {
        "id": "osAT_QOp7roL"
      },
      "source": [
        "### EarlyStopping\n",
        "- 일정 에포크(patience) 동안 검증 세트에 대한 점수가 오르지 않으면 학습을 멈춤\n",
        "\n",
        "- 모델이 향상되지 않으면 학습이 자동으로 중지되므로,  \n",
        "  에포크(epochs) 숫자를 크게 해도 무방\n",
        "\n",
        "- 학습이 끝난 후의 최상의 가중치를 복원하기 때문에 모델을 따로 복원할 필요없음"
      ]
    },
    {
      "cell_type": "code",
      "metadata": {
        "id": "JT61djueqczo"
      },
      "source": [
        ""
      ],
      "execution_count": null,
      "outputs": []
    },
    {
      "cell_type": "markdown",
      "metadata": {
        "id": "sPadOgZM9bM-"
      },
      "source": [
        "### LearningRateScheduler"
      ]
    },
    {
      "cell_type": "code",
      "metadata": {
        "id": "njq81hTgqcwG"
      },
      "source": [
        ""
      ],
      "execution_count": null,
      "outputs": []
    },
    {
      "cell_type": "code",
      "metadata": {
        "id": "5AUc7PaMqcsd"
      },
      "source": [
        ""
      ],
      "execution_count": null,
      "outputs": []
    },
    {
      "cell_type": "code",
      "metadata": {
        "id": "ZEH3d9__qco9"
      },
      "source": [
        ""
      ],
      "execution_count": null,
      "outputs": []
    },
    {
      "cell_type": "markdown",
      "metadata": {
        "id": "A31OUv_C-QHX"
      },
      "source": [
        "### Tensorboard\n",
        "- 텐서보드를 이용하여 학습과정 모니터링"
      ]
    },
    {
      "cell_type": "markdown",
      "metadata": {
        "id": "CcDhXXgn_W2F"
      },
      "source": [
        "텐서보드를 사용하기 위해 logs폴더를 만들고, 학습이 진행되는 동안 로그 파일을 생성"
      ]
    },
    {
      "cell_type": "code",
      "metadata": {
        "id": "zc38Lumyqclb"
      },
      "source": [
        ""
      ],
      "execution_count": null,
      "outputs": []
    },
    {
      "cell_type": "code",
      "metadata": {
        "id": "XS1P1aDdqcgb"
      },
      "source": [
        ""
      ],
      "execution_count": null,
      "outputs": []
    },
    {
      "cell_type": "code",
      "metadata": {
        "id": "veufv36_BiZM"
      },
      "source": [
        ""
      ],
      "execution_count": null,
      "outputs": []
    },
    {
      "cell_type": "markdown",
      "metadata": {
        "id": "nkmm5b03CBQb"
      },
      "source": [
        "load하는데 시간 소요\n",
        "\n",
        "- load가 안된다면 port번호를 바꿔서 실행!  \n",
        "  ex) %tensorboard --logdir {log_dir} port 8000"
      ]
    },
    {
      "cell_type": "code",
      "metadata": {
        "id": "RgN2oO6dBnmN"
      },
      "source": [
        ""
      ],
      "execution_count": null,
      "outputs": []
    }
  ]
}